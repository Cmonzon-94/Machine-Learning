{
 "cells": [
  {
   "cell_type": "markdown",
   "id": "55352476",
   "metadata": {},
   "source": [
    "![Texto alternativo](https://cdn-ilbdkgn.nitrocdn.com/KyPgQQQAVfBmOoLeBzkzAekksAGOgYiS/assets/images/optimized/rev-507152b/www.modernheartandvascular.com/wp-content/uploads/2022/10/HEart-failure.png)"
   ]
  },
  {
   "cell_type": "markdown",
   "id": "04ae0b50",
   "metadata": {},
   "source": [
    "El objetivo de este proyecto es construir un modelo de Machine Learning que pueda predecir si un paciente tiene una enfermedad cardíaca basándonos en sus características médicas."
   ]
  },
  {
   "cell_type": "markdown",
   "id": "98a5707e",
   "metadata": {},
   "source": [
    "## Cargar librerias y Dataset"
   ]
  },
  {
   "cell_type": "code",
   "execution_count": null,
   "id": "d1875b93",
   "metadata": {},
   "outputs": [],
   "source": [
    "import pandas as pd\n",
    "import numpy as np\n",
    "import matplotlib.pyplot as plt\n",
    "import seaborn as sns\n",
    "from sklearn.model_selection import train_test_split, RandomizedSearchCV\n",
    "from sklearn.preprocessing import StandardScaler, LabelEncoder\n",
    "from sklearn.linear_model import LogisticRegression\n",
    "from sklearn.ensemble import RandomForestClassifier\n",
    "from sklearn.metrics import accuracy_score, classification_report\n",
    "from sklearn.model_selection import cross_val_score\n",
    "\n",
    "\n",
    "# Cargar los datos\n",
    "df = pd.read_csv(\"./data/heart.csv\")\n",
    "\n",
    "# Manejo de desbalanceo con SMOTE\n",
    "from imblearn.over_sampling import SMOTE\n",
    "\n",
    "smote = SMOTE(random_state=42)\n",
    "X_train, y_train = smote.fit_resample(X_train, y_train)\n",
    "            "
   ]
  },
  {
   "cell_type": "markdown",
   "id": "ea6a753b",
   "metadata": {},
   "source": [
    "## Estructura del Dataset"
   ]
  },
  {
   "cell_type": "code",
   "execution_count": null,
   "id": "03ba40fb",
   "metadata": {},
   "outputs": [],
   "source": [
    "# Ver primeras filas\n",
    "print(df.head())\n",
    "\n",
    "# Información general\n",
    "print(df.info())\n",
    "\n",
    "# Resumen estadístico\n",
    "print(df.describe())\n"
   ]
  },
  {
   "cell_type": "markdown",
   "id": "7933dff8",
   "metadata": {},
   "source": [
    "Nos encontramos ante un dataset con 1025 filas, 14 columnas.\n",
    "De los cuales, 5 variables son numéricas (int64 o float64).\n",
    "8 variables son categóricas (object) y la variable objetivo (target) es binaria: 0 = No enfermedad, 1 = Enfermedad.\n",
    "\n",
    "\n",
    "•\tEdad (age)\n",
    "\n",
    "•\tSexo (sex)\n",
    "\n",
    "•\tPresión arterial en reposo (trestbps)\n",
    "\n",
    "•\tColesterol (chol)\n",
    "\n",
    "•\tFrecuencia cardíaca máxima alcanzada (thalach)\n",
    "\n",
    "•\tAngina inducida por ejercicio (exang)\n",
    "\n",
    "•\tDepresión del ST inducida por el ejercicio (oldpeak)\n",
    "\n",
    "•\tTipo de dolor en el pecho (cp - diferentes tipos de dolor)\n",
    "\n",
    "•\tResultados de electrocardiograma en reposo (restecg)"
   ]
  },
  {
   "cell_type": "markdown",
   "id": "77cc16c1",
   "metadata": {},
   "source": [
    "Se observa:\n",
    "Varias columnas categóricas (sex, chest_pain_type, etc.) deben ser convertidas a variables numéricas.\n",
    "La columna cholestoral parece tener valores altos (máx: 564), posible outlier.\n",
    "La columna vessels_colored_by_flourosopy tiene valores en texto que podrían requerir limpieza."
   ]
  },
  {
   "cell_type": "code",
   "execution_count": null,
   "id": "ca1e9e18",
   "metadata": {},
   "outputs": [],
   "source": [
    "# Convertir columnas categóricas a numéricas\n",
    "categorical_mappings = {\n",
    "    'sex': {'Male': 1, 'Female': 0},\n",
    "    'chest_pain_type': {\n",
    "        'Typical angina': 0, 'Atypical angina': 1, 'Non-anginal pain': 2, 'Asymptomatic': 3\n",
    "    },\n",
    "    'fasting_blood_sugar': {'Lower than 120 mg/ml': 0, 'Greater than 120 mg/ml': 1},\n",
    "    'rest_ecg': {'Normal': 0, 'ST-T wave abnormality': 1, 'Left ventricular hypertrophy': 2},\n",
    "    'exercise_induced_angina': {'No': 0, 'Yes': 1},\n",
    "    'slope': {'Upsloping': 0, 'Flat': 1, 'Downsloping': 2},\n",
    "    'vessels_colored_by_flourosopy': {'Zero': 0, 'One': 1, 'Two': 2, 'Three': 3, 'Four': 4},\n",
    "    'thalassemia': {'Normal': 0, 'Fixed Defect': 1, 'Reversable Defect': 2}\n",
    "}\n",
    "\n",
    "# Aplicar las conversiones\n",
    "for col, mapping in categorical_mappings.items():\n",
    "    df[col] = df[col].map(mapping)\n",
    "\n",
    "# Manejo de outliers en 'cholestoral' (usando percentil 99 para detectar valores extremos)\n",
    "cholesterol_threshold = np.percentile(df['cholestoral'], 99)\n",
    "df = df[df['cholestoral'] <= cholesterol_threshold]\n",
    "\n",
    "# Mostrar resultados\n",
    "df.info(), df.head()"
   ]
  },
  {
   "cell_type": "markdown",
   "id": "1974ae33",
   "metadata": {},
   "source": [
    "Faltan algunos valores en thalassemia (7 valores nulos), procedemos a eliminarlo ya que nos pocos (7 frente a  1016)"
   ]
  },
  {
   "cell_type": "code",
   "execution_count": null,
   "id": "800a143c",
   "metadata": {},
   "outputs": [],
   "source": [
    "# Eliminar filas con valores nulos en 'thalassemia'\n",
    "df = df.dropna(subset=['thalassemia'])\n",
    "\n",
    "# Verificar que no hay valores nulos\n",
    "df.info()\n"
   ]
  },
  {
   "cell_type": "markdown",
   "id": "791be287",
   "metadata": {},
   "source": [
    "## MINI EDA"
   ]
  },
  {
   "cell_type": "markdown",
   "id": "c021838d",
   "metadata": {},
   "source": [
    "Distribución de la Variable objetico"
   ]
  },
  {
   "cell_type": "code",
   "execution_count": null,
   "id": "9a23c18f",
   "metadata": {},
   "outputs": [],
   "source": [
    "plt.figure(figsize=(6,4))\n",
    "sns.countplot(x=df[\"target\"], palette=\"coolwarm\")\n",
    "plt.title(\"Distribución de Pacientes con Enfermedad Cardíaca\")\n",
    "plt.show()\n"
   ]
  },
  {
   "cell_type": "markdown",
   "id": "cd720a1c",
   "metadata": {},
   "source": [
    "Tenemos una variable target balanceada"
   ]
  },
  {
   "cell_type": "markdown",
   "id": "3c497094",
   "metadata": {},
   "source": [
    "Correlación entre variabbles"
   ]
  },
  {
   "cell_type": "code",
   "execution_count": null,
   "id": "62e40563",
   "metadata": {},
   "outputs": [],
   "source": [
    "# Usamos LabelEncoder para transformar las categorías en números\n",
    "encoder = LabelEncoder()\n",
    "for col in categorical_mappings:\n",
    "    df[col] = encoder.fit_transform(df[col])"
   ]
  },
  {
   "cell_type": "code",
   "execution_count": null,
   "id": "82adb066",
   "metadata": {},
   "outputs": [],
   "source": [
    "# Mapa de calor de correlaciones\n",
    "plt.figure(figsize=(12,8))\n",
    "sns.heatmap(df.corr(), annot=True, cmap=\"coolwarm\", fmt=\".2f\", linewidths=0.5)\n",
    "plt.title(\"Mapa de Correlación entre Variables\")\n",
    "plt.show()\n"
   ]
  },
  {
   "cell_type": "markdown",
   "id": "00348316",
   "metadata": {},
   "source": [
    "De este análisis se puede concluir:\n",
    "\n",
    "Max_heart_rate y target tienen correlación positiva (0.40), lo que indica que una mayor frecuencia cardíaca máxima puede estar asociada con la enfermedad.\n",
    "\n",
    "Oldpeak (Depresión del ST) tiene correlación negativa (-0.57) con target, lo que sugiere que valores más altos pueden indicar menor riesgo.\n",
    "\n",
    "Chest_pain_type tiene correlación positiva fuerte (0.43) con la variable target, lo que indica que el tipo de dolor en el pecho es un buen predictor.\n",
    "\n",
    "Algunas variables (cholestoral, resting_blood_pressure) no parecen estar fuertemente correlacionadas con target, por lo que podrían no ser tan relevantes."
   ]
  },
  {
   "cell_type": "markdown",
   "id": "54d38381",
   "metadata": {},
   "source": [
    " Distribución de Pacientes según Edad y Género"
   ]
  },
  {
   "cell_type": "code",
   "execution_count": null,
   "id": "368da048",
   "metadata": {},
   "outputs": [],
   "source": [
    "plt.figure(figsize=(12,5))\n",
    "sns.histplot(df[\"age\"], bins=20, kde=True, color=\"blue\")\n",
    "plt.title(\"Distribución de Edad de los Pacientes\")\n",
    "plt.show()\n",
    "\n",
    "plt.figure(figsize=(6,4))\n",
    "sns.countplot(x=df[\"sex\"], hue=df[\"target\"], palette=\"viridis\")\n",
    "plt.xticks([0, 1], [\"Mujeres\", \"Hombres\"])\n",
    "plt.title(\"Distribución por Género y Enfermedad\")\n",
    "plt.show()\n"
   ]
  },
  {
   "cell_type": "markdown",
   "id": "c129e084",
   "metadata": {},
   "source": [
    "De este análisis se concluye que la mayoría de los pacientes con enfermedad son mayores de cierta edad por lo que la edad puede ser un factor clave para padecer la enfermedad de estudio.\n",
    "\n",
    "Las mujeres tienen menor riesgo de padecer la enfermedad que los hombres.\n"
   ]
  },
  {
   "cell_type": "markdown",
   "id": "55d64e99",
   "metadata": {},
   "source": [
    "## Revisión de datos"
   ]
  },
  {
   "cell_type": "markdown",
   "id": "fb9041cb",
   "metadata": {},
   "source": [
    " Manejo de Datos Categóricos\n",
    "Algunas variables en el dataset son categóricas y deben ser convertidas en formato numérico si aún no lo están."
   ]
  },
  {
   "cell_type": "code",
   "execution_count": null,
   "id": "6ad2a023",
   "metadata": {},
   "outputs": [],
   "source": [
    "# Convertir variables categóricas en numéricas\n",
    "categorical_cols = ['sex', 'chest_pain_type', 'fasting_blood_sugar', 'rest_ecg', \n",
    "                    'exercise_induced_angina', 'slope', 'vessels_colored_by_flourosopy', 'thalassemia']\n",
    "\n"
   ]
  },
  {
   "cell_type": "markdown",
   "id": "51ea984b",
   "metadata": {},
   "source": [
    "Normalización de Variables Numéricas\n",
    "\n",
    "Para mejorar el desempeño de algunos modelos, escalamos los datos con StandardScaler."
   ]
  },
  {
   "cell_type": "code",
   "execution_count": null,
   "id": "75fa3151",
   "metadata": {},
   "outputs": [],
   "source": [
    "# Normalizar variables numéricas:\n",
    "scaler = StandardScaler()\n",
    "numerical_cols = ['age', 'resting_blood_pressure', 'cholestoral', 'Max_heart_rate', 'oldpeak']\n",
    "df[numerical_cols] = scaler.fit_transform(df[numerical_cols])\n",
    "\n"
   ]
  },
  {
   "cell_type": "markdown",
   "id": "648a6269",
   "metadata": {},
   "source": [
    "Ahora dividimos es dataset en Train/Test para tener los datos en conjuntos de entrenamiento y de prueba."
   ]
  },
  {
   "cell_type": "code",
   "execution_count": null,
   "id": "4543c7b1",
   "metadata": {},
   "outputs": [],
   "source": [
    "# Separar variables predictoras y objetivo\n",
    "X = df.drop(\"target\", axis=1)\n",
    "y = df[\"target\"]\n",
    "\n",
    "# Dividir en 80% entrenamiento y 20% prueba\n",
    "X_train, X_test, y_train, y_test = train_test_split(X, y, test_size=0.2, random_state=42, stratify=y)\n",
    "\n",
    "# Verificar tamaño de los conjuntos\n",
    "X_train.shape, X_test.shape\n",
    "\n",
    "\n",
    "# Manejo de desbalanceo con SMOTE\n",
    "from imblearn.over_sampling import SMOTE\n",
    "\n",
    "smote = SMOTE(random_state=42)\n",
    "X_train, y_train = smote.fit_resample(X_train, y_train)\n",
    "            "
   ]
  },
  {
   "cell_type": "markdown",
   "id": "22b45906",
   "metadata": {},
   "source": [
    "Estudiemos los modelos que presenten mayor rendimiento."
   ]
  },
  {
   "cell_type": "code",
   "execution_count": null,
   "id": "4081f27d",
   "metadata": {},
   "outputs": [],
   "source": [
    "\n",
    "# Optimización de hiperparámetros con RandomizedSearchCV\n",
    "param_grid = {\n",
    "    \"n_estimators\": [50, 100, 200],\n",
    "    \"max_depth\": [None, 10, 20],\n",
    "    \"min_samples_split\": [2, 5, 10],\n",
    "    \"min_samples_leaf\": [1, 2, 4]\n",
    "}\n",
    "\n",
    "rf = RandomForestClassifier(random_state=42)\n",
    "random_search = RandomizedSearchCV(rf, param_distributions=param_grid, n_iter=10, cv=5, scoring=\"roc_auc\", n_jobs=-1)\n",
    "random_search.fit(X_train, y_train)\n",
    "\n",
    "# Mejor modelo\n",
    "best_model = random_search.best_estimator_\n",
    "            "
   ]
  },
  {
   "cell_type": "markdown",
   "id": "ce222d0e",
   "metadata": {},
   "source": [
    "La Regresión Logística tiene un 85.33% precisión promedio ofreciendo un rendimiento sólido y generalizable,\n",
    "mientras que el Random Forest un 99.70% de precisión promedio.Esto ofrece una precisión altísima, pero esto sugiere que podría estar sobreajustando a los datos."
   ]
  },
  {
   "cell_type": "markdown",
   "id": "8f2c7e5d",
   "metadata": {},
   "source": [
    "## Pasos a seguir\n",
    "\n",
    "Vamos a optimizar el modelo de Random Forest ajustando los hiperparámetros con RandomizedSearchCV para mejorar generalización.\n"
   ]
  },
  {
   "cell_type": "code",
   "execution_count": null,
   "id": "219ca3cd",
   "metadata": {},
   "outputs": [],
   "source": [
    "\n",
    "# Optimización de hiperparámetros con RandomizedSearchCV\n",
    "param_grid = {\n",
    "    \"n_estimators\": [50, 100, 200],\n",
    "    \"max_depth\": [None, 10, 20],\n",
    "    \"min_samples_split\": [2, 5, 10],\n",
    "    \"min_samples_leaf\": [1, 2, 4]\n",
    "}\n",
    "\n",
    "rf = RandomForestClassifier(random_state=42)\n",
    "random_search = RandomizedSearchCV(rf, param_distributions=param_grid, n_iter=10, cv=5, scoring=\"roc_auc\", n_jobs=-1)\n",
    "random_search.fit(X_train, y_train)\n",
    "\n",
    "# Mejor modelo\n",
    "best_model = random_search.best_estimator_\n",
    "            "
   ]
  },
  {
   "cell_type": "markdown",
   "id": "1d0c33ff",
   "metadata": {},
   "source": [
    "El mejor puntaje de precisión obtenido en la validación cruzada es 0.9901, esto nos da información de que el modelo tiene un desempeño excelente en los datos de entrenamiento con estos hiperparámetros."
   ]
  },
  {
   "cell_type": "markdown",
   "id": "e8170be2",
   "metadata": {},
   "source": [
    "Veamos si el modelo generaliza bien o sigue sobreajustando."
   ]
  },
  {
   "cell_type": "code",
   "execution_count": null,
   "id": "a4299016",
   "metadata": {},
   "outputs": [],
   "source": [
    "\n",
    "# Optimización de hiperparámetros con RandomizedSearchCV\n",
    "param_grid = {\n",
    "    \"n_estimators\": [50, 100, 200],\n",
    "    \"max_depth\": [None, 10, 20],\n",
    "    \"min_samples_split\": [2, 5, 10],\n",
    "    \"min_samples_leaf\": [1, 2, 4]\n",
    "}\n",
    "\n",
    "rf = RandomForestClassifier(random_state=42)\n",
    "random_search = RandomizedSearchCV(rf, param_distributions=param_grid, n_iter=10, cv=5, scoring=\"roc_auc\", n_jobs=-1)\n",
    "random_search.fit(X_train, y_train)\n",
    "\n",
    "# Mejor modelo\n",
    "best_model = random_search.best_estimator_\n",
    "            "
   ]
  },
  {
   "cell_type": "markdown",
   "id": "fb1cf9f8",
   "metadata": {},
   "source": [
    "Las variables más relevantes en la predicción son aquellas relacionadas con la salud cardíaca directamente, como la fluoroscopia, el ritmo cardíaco, el tipo de dolor en el pecho, la talasemia y el \"oldpeak\".\n",
    "\n",
    "Las variables menos importantes son aquellas relacionadas con la fisiología (como el sexo) o con medidas que, en este conjunto de datos específico, no tienen un gran impacto predictivo (como el azúcar en sangre en ayunas).\n",
    "\n",
    "Las variables relacionadas con los síntomas y condiciones más específicas de problemas cardíacos parecen ser las que aportan más valor a la predicción, mientras que las variables más generales o relacionadas con condiciones menos directamente relacionadas con problemas cardíacos tienen menor importancia.\n",
    "\n",
    "Podemos eliminar las variables menos relevantes para probar si el modelo mejora.\n"
   ]
  },
  {
   "cell_type": "code",
   "execution_count": null,
   "id": "e99f05b0",
   "metadata": {},
   "outputs": [],
   "source": [
    "# Hacer predicciones en el conjunto de prueba\n",
    "y_pred_best_rf = best_rf.predict(X_test)\n",
    "\n",
    "# Evaluar el modelo optimizado\n",
    "acc_best_rf = accuracy_score(y_test, y_pred_best_rf)\n",
    "report_best_rf = classification_report(y_test, y_pred_best_rf)\n",
    "\n",
    "acc_best_rf, report_best_rf\n",
    "\n",
    "# Explicabilidad del modelo con SHAP\n",
    "import shap\n",
    "\n",
    "explainer = shap.TreeExplainer(best_model)\n",
    "shap_values = explainer.shap_values(X_test)\n",
    "\n",
    "shap.summary_plot(shap_values[1], X_test)\n",
    "            "
   ]
  },
  {
   "cell_type": "markdown",
   "id": "f71b5656",
   "metadata": {},
   "source": [
    "Precisión del modelo optimizado en el conjunto de prueba: 98,51%\n",
    "\n",
    "Todas las métricas son cercanas a 1\n"
   ]
  },
  {
   "cell_type": "markdown",
   "id": "73f1fc90",
   "metadata": {},
   "source": [
    "Eliminamos fasting_blood_sugar, rest_ecg y sex, que tienen poca importancia.\n",
    "Reentrenamos el modelo para ver si mantenemos un buen rendimiento con menos complejidad."
   ]
  },
  {
   "cell_type": "code",
   "execution_count": null,
   "id": "6c265cf0",
   "metadata": {},
   "outputs": [],
   "source": [
    "# Eliminar las variables menos relevantes\n",
    "cols_to_drop = [\"fasting_blood_sugar\", \"rest_ecg\", \"sex\"]\n",
    "X_reduced = X.drop(columns=cols_to_drop)\n",
    "\n",
    "# Dividir en entrenamiento y prueba nuevamente\n",
    "X_train_red, X_test_red, y_train, y_test = train_test_split(X_reduced, y, test_size=0.2, random_state=42, stratify=y)\n",
    "\n",
    "# Reentrenar Random Forest con el nuevo conjunto reducido\n",
    "best_rf.fit(X_train_red, y_train)\n",
    "\n",
    "# Evaluar en el conjunto de prueba\n",
    "y_pred_reduced = best_rf.predict(X_test_red)\n",
    "acc_reduced = accuracy_score(y_test, y_pred_reduced)\n",
    "report_reduced = classification_report(y_test, y_pred_reduced)\n",
    "\n",
    "acc_reduced, report_reduced\n",
    "\n",
    "# Manejo de desbalanceo con SMOTE\n",
    "from imblearn.over_sampling import SMOTE\n",
    "\n",
    "smote = SMOTE(random_state=42)\n",
    "X_train, y_train = smote.fit_resample(X_train, y_train)\n",
    "            "
   ]
  },
  {
   "cell_type": "markdown",
   "id": "58b5bb3d",
   "metadata": {},
   "source": [
    "Reducir las variables ha mejorado el rendimiento (97%) lo que significa que el modelo puede ser más simple sin perder precisión."
   ]
  },
  {
   "cell_type": "markdown",
   "id": "9039a82c",
   "metadata": {},
   "source": [
    "Veamos ahora XGBoost, que es un modelo potente que maneja bien datos tabulares y puede reducir el sobreajuste."
   ]
  },
  {
   "cell_type": "code",
   "execution_count": null,
   "id": "cedca4be",
   "metadata": {},
   "outputs": [],
   "source": [
    "from xgboost import XGBClassifier\n",
    "\n",
    "# Definir y entrenar el modelo XGBoost\n",
    "xgb_model = XGBClassifier(use_label_encoder=False, eval_metric=\"logloss\", random_state=42)\n",
    "xgb_model.fit(X_train_red, y_train)\n",
    "\n",
    "# Evaluar en el conjunto de prueba\n",
    "y_pred_xgb = xgb_model.predict(X_test_red)\n",
    "acc_xgb = accuracy_score(y_test, y_pred_xgb)\n",
    "report_xgb = classification_report(y_test, y_pred_xgb)\n",
    "\n",
    "acc_xgb, report_xgb\n",
    "\n",
    "# Explicabilidad del modelo con SHAP\n",
    "import shap\n",
    "\n",
    "explainer = shap.TreeExplainer(best_model)\n",
    "shap_values = explainer.shap_values(X_test)\n",
    "\n",
    "shap.summary_plot(shap_values[1], X_test)\n",
    "            "
   ]
  },
  {
   "cell_type": "markdown",
   "id": "28d06e33",
   "metadata": {},
   "source": [
    "Este modelo tiene resultados parecidos"
   ]
  }
 ],
 "metadata": {
  "language_info": {
   "name": "python"
  }
 },
 "nbformat": 4,
 "nbformat_minor": 5
}
